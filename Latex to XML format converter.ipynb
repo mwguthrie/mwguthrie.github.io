{
 "cells": [
  {
   "cell_type": "code",
   "execution_count": 37,
   "metadata": {},
   "outputs": [
    {
     "name": "stdout",
     "output_type": "stream",
     "text": [
      "2: $\\left\\vert\\vec{L}\\right\\vert = 0 \\, \\mathrm{kg \\, m^2 / s}$  3: $\\left\\vert\\vec{L}\\right\\vert = 1.05 \\times 10^{13} \\, \\mathrm{kg \\, m^2 / s}$  4: $\\left\\vert\\vec{L}\\right\\vert = 9.11 \\times 10^{12} \\, \\mathrm{kg \\, m^2 / s}$  5: $\\left\\vert\\vec{L}\\right\\vert = 2.10 \\times 10^{13} \\, \\mathrm{kg \\, m^2 / s}$\n",
      "\n",
      "------------------------------------------------------------------\n",
      "\n",
      "2: <latex>\\left\\vert\\vec{L}\\right\\vert = 0 \\, \\mathrm{kg \\, m^2 / s}</latex>  3: <latex>\\left\\vert\\vec{L}\\right\\vert = 1.05 \\times 10^{13} \\, \\mathrm{kg \\, m^2 / s}</latex>  4: <latex>\\left\\vert\\vec{L}\\right\\vert = 9.11 \\times 10^{12} \\, \\mathrm{kg \\, m^2 / s}</latex>  5: <latex>\\left\\vert\\vec{L}\\right\\vert = 2.10 \\times 10^{13} \\, \\mathrm{kg \\, m^2 / s}</latex>\n"
     ]
    }
   ],
   "source": [
    "strIn = str(input())\n",
    "print('\\n------------------------------------------------------------------\\n')\n",
    "arrIn = [i for i in strIn]\n",
    "arrOut = arrIn\n",
    "NumReplace = 0\n",
    "for i in range (0, len(arrIn)):\n",
    "    if arrIn[i] == '$':\n",
    "        if NumReplace % 2 == 0:\n",
    "            arrOut[i] = '<latex>'\n",
    "        if NumReplace % 2 == 1:\n",
    "            arrOut[i] = '</latex>'\n",
    "        NumReplace = NumReplace + 1\n",
    "if NumReplace % 2 == 1: \n",
    "    print('Error: odd number of $ signs.')\n",
    "else:\n",
    "    strOut = ''\n",
    "    for x in arrOut:\n",
    "        strOut = strOut + x\n",
    "    print(strOut)"
   ]
  },
  {
   "cell_type": "code",
   "execution_count": 35,
   "metadata": {},
   "outputs": [],
   "source": []
  },
  {
   "cell_type": "code",
   "execution_count": null,
   "metadata": {},
   "outputs": [],
   "source": []
  }
 ],
 "metadata": {
  "kernelspec": {
   "display_name": "Python 3",
   "language": "python",
   "name": "python3"
  },
  "language_info": {
   "codemirror_mode": {
    "name": "ipython",
    "version": 3
   },
   "file_extension": ".py",
   "mimetype": "text/x-python",
   "name": "python",
   "nbconvert_exporter": "python",
   "pygments_lexer": "ipython3",
   "version": "3.7.0"
  }
 },
 "nbformat": 4,
 "nbformat_minor": 2
}
